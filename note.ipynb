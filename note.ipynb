{
 "cells": [
  {
   "cell_type": "code",
   "execution_count": 1,
   "metadata": {},
   "outputs": [
    {
     "name": "stdout",
     "output_type": "stream",
     "text": [
      "dict_keys(['1.Deauth', '12.Evil_Twin', '9.Malware', '7.SSH', '4.Rogue_AP', '5.Krack', '13.Website_spoofing', '6.Kr00k', '2.Disas', '3.ReAssoc', '8.Botnet', '10.SQL_Injection', '11.SSDP'])\n"
     ]
    },
    {
     "name": "stderr",
     "output_type": "stream",
     "text": [
      "100%|██████████| 33/33 [00:41<00:00,  1.25s/it]\n",
      "100%|██████████| 49/49 [01:03<00:00,  1.29s/it]\n",
      "100%|██████████| 52/52 [01:11<00:00,  1.38s/it]\n",
      "100%|██████████| 76/76 [01:39<00:00,  1.30s/it]\n",
      "100%|██████████| 54/54 [01:08<00:00,  1.26s/it]\n",
      "100%|██████████| 5/5 [06:27<00:00, 77.44s/it]\n"
     ]
    },
    {
     "ename": "",
     "evalue": "",
     "output_type": "error",
     "traceback": [
      "\u001b[1;31mCanceled future for execute_request message before replies were done"
     ]
    },
    {
     "ename": "",
     "evalue": "",
     "output_type": "error",
     "traceback": [
      "\u001b[1;31mThe Kernel crashed while executing code in the the current cell or a previous cell. Please review the code in the cell(s) to identify a possible cause of the failure. Click <a href='https://aka.ms/vscodeJupyterKernelCrash'>here</a> for more info. View Jupyter <a href='command:jupyter.viewOutput'>log</a> for further details."
     ]
    }
   ],
   "source": [
    "import os\n",
    "\n",
    "import pandas as pd\n",
    "import numpy as np\n",
    "from tqdm import tqdm\n",
    "\n",
    "\n",
    "DATA_DIR=\"/data/security/CSV\"\n",
    "\n",
    "files_dict = {}\n",
    "for folder in os.listdir(DATA_DIR):\n",
    "    subroot = os.path.join(DATA_DIR, folder)\n",
    "    files_dict[folder] = [os.path.join(subroot, file) for file in os.listdir(subroot)]\n",
    "\n",
    "\n",
    "print(files_dict.keys())\n",
    "\n",
    "def read_csvs(path_list):\n",
    "    \"\"\"Creates DataFrame from list of CSV paths\n",
    "\n",
    "    Args:\n",
    "        path_list (List): list of paths\n",
    "\n",
    "    Returns:\n",
    "        DataFrame: dataframe constructed by concatinating\n",
    "    \"\"\"\n",
    "    dfs = [pd.read_csv(f, low_memory=False) for f in tqdm(path_list)]\n",
    "    df = pd.concat(dfs, ignore_index=True)\n",
    "    return df\n",
    "\n",
    "attack_list = ['1.Deauth', '7.SSH', '10.SQL_Injection', '12.Evil_Twin', '13.Website_spoofing']\n",
    "dfs = [read_csvs(files_dict[attack]) for attack in tqdm(attack_list)]\n",
    "data = pd.concat(dfs, ignore_index=True)\n",
    "    # data = read_csvs(files_dict['1.Deauth', '7.SSH', '10.SQL_Injection', '12.Evil_Twin', '13.Website_spoofing'])\n",
    "\n",
    "\n",
    "print(data['Label'].value_counts())"
   ]
  },
  {
   "cell_type": "code",
   "execution_count": 2,
   "metadata": {},
   "outputs": [],
   "source": [
    "pd.set_option('display.max_columns', 300)\n",
    "pd.set_option('display.max_rows', 300)"
   ]
  },
  {
   "cell_type": "code",
   "execution_count": 3,
   "metadata": {},
   "outputs": [],
   "source": [
    "drop_cols = []\n",
    "for col in data.columns:\n",
    "    if len(data[col].unique()) == 1:\n",
    "        drop_cols.append(col)"
   ]
  },
  {
   "cell_type": "code",
   "execution_count": 4,
   "metadata": {},
   "outputs": [],
   "source": [
    "data.drop(drop_cols, axis=1, inplace=True)"
   ]
  },
  {
   "cell_type": "code",
   "execution_count": 5,
   "metadata": {},
   "outputs": [],
   "source": [
    "data.shape\n",
    "df = data.copy()"
   ]
  },
  {
   "cell_type": "code",
   "execution_count": 6,
   "metadata": {},
   "outputs": [
    {
     "data": {
      "text/plain": [
       "frame.len                     0\n",
       "frame.number                  0\n",
       "frame.time                    0\n",
       "frame.time_delta              0\n",
       "frame.time_delta_displayed    0\n",
       "frame.time_epoch              0\n",
       "frame.time_relative           0\n",
       "radiotap.dbm_antsignal        0\n",
       "radiotap.length               0\n",
       "radiotap.present.tsft         0\n",
       "radiotap.timestamp.ts         0\n",
       "wlan.duration                 0\n",
       "wlan.fc.ds                    0\n",
       "wlan.fc.frag                  0\n",
       "wlan.fc.order                 0\n",
       "wlan.fc.moredata              0\n",
       "wlan.fc.protected             0\n",
       "wlan.fc.pwrmgt                0\n",
       "wlan.fc.type                  0\n",
       "wlan.fc.retry                 0\n",
       "wlan.fc.subtype               0\n",
       "wlan.ra                       0\n",
       "wlan_radio.duration           0\n",
       "wlan_radio.data_rate          0\n",
       "wlan_radio.signal_dbm         0\n",
       "wlan_radio.phy                0\n",
       "Label                         0\n",
       "dtype: int64"
      ]
     },
     "execution_count": 6,
     "metadata": {},
     "output_type": "execute_result"
    }
   ],
   "source": [
    "dff = df[[c for c in df if df[c].isnull().sum() == 0]]\n",
    "dff.isna().sum()\n",
    "# dff.drop(['radiotap.datarate', 'radiotap.mactime', 'radiotap.mactime', 'wlan_radio.start_tsf', 'wlan_radio.timestamp', 'wlan_radio.end_tsf '], axis=1, inplace=True)"
   ]
  },
  {
   "cell_type": "code",
   "execution_count": 10,
   "metadata": {},
   "outputs": [
    {
     "data": {
      "text/html": [
       "<div>\n",
       "<style scoped>\n",
       "    .dataframe tbody tr th:only-of-type {\n",
       "        vertical-align: middle;\n",
       "    }\n",
       "\n",
       "    .dataframe tbody tr th {\n",
       "        vertical-align: top;\n",
       "    }\n",
       "\n",
       "    .dataframe thead th {\n",
       "        text-align: right;\n",
       "    }\n",
       "</style>\n",
       "<table border=\"1\" class=\"dataframe\">\n",
       "  <thead>\n",
       "    <tr style=\"text-align: right;\">\n",
       "      <th></th>\n",
       "      <th>radiotap.dbm_antsignal</th>\n",
       "      <th>radiotap.present.tsft</th>\n",
       "      <th>wlan.fc.ds</th>\n",
       "      <th>wlan.ra</th>\n",
       "      <th>Label</th>\n",
       "    </tr>\n",
       "  </thead>\n",
       "  <tbody>\n",
       "    <tr>\n",
       "      <th>count</th>\n",
       "      <td>2440570</td>\n",
       "      <td>2440570</td>\n",
       "      <td>2440570</td>\n",
       "      <td>2440570</td>\n",
       "      <td>2440570</td>\n",
       "    </tr>\n",
       "    <tr>\n",
       "      <th>unique</th>\n",
       "      <td>691</td>\n",
       "      <td>2</td>\n",
       "      <td>4</td>\n",
       "      <td>962</td>\n",
       "      <td>2</td>\n",
       "    </tr>\n",
       "    <tr>\n",
       "      <th>top</th>\n",
       "      <td>-103</td>\n",
       "      <td>1-0-0</td>\n",
       "      <td>0x00000000</td>\n",
       "      <td>0c:9d:92:54:fe:34</td>\n",
       "      <td>Normal</td>\n",
       "    </tr>\n",
       "    <tr>\n",
       "      <th>freq</th>\n",
       "      <td>764234</td>\n",
       "      <td>1537879</td>\n",
       "      <td>1527796</td>\n",
       "      <td>950962</td>\n",
       "      <td>2428688</td>\n",
       "    </tr>\n",
       "  </tbody>\n",
       "</table>\n",
       "</div>"
      ],
      "text/plain": [
       "        radiotap.dbm_antsignal radiotap.present.tsft  wlan.fc.ds  \\\n",
       "count                  2440570               2440570     2440570   \n",
       "unique                     691                     2           4   \n",
       "top                       -103                 1-0-0  0x00000000   \n",
       "freq                    764234               1537879     1527796   \n",
       "\n",
       "                  wlan.ra    Label  \n",
       "count             2440570  2440570  \n",
       "unique                962        2  \n",
       "top     0c:9d:92:54:fe:34   Normal  \n",
       "freq               950962  2428688  "
      ]
     },
     "execution_count": 10,
     "metadata": {},
     "output_type": "execute_result"
    }
   ],
   "source": [
    "dff.drop(['frame.time'], axis=1, inplace=True)\n",
    "dff.describe(include='object')"
   ]
  },
  {
   "cell_type": "code",
   "execution_count": 16,
   "metadata": {},
   "outputs": [
    {
     "name": "stderr",
     "output_type": "stream",
     "text": [
      "/tmp/ipykernel_2016273/1205754464.py:2: SettingWithCopyWarning: \n",
      "A value is trying to be set on a copy of a slice from a DataFrame\n",
      "\n",
      "See the caveats in the documentation: https://pandas.pydata.org/pandas-docs/stable/user_guide/indexing.html#returning-a-view-versus-a-copy\n",
      "  dff.drop(object_col_to_drop, axis=1, inplace=True)\n"
     ]
    }
   ],
   "source": [
    "object_col_to_drop = ['wlan.ra']\n",
    "dff.drop(object_col_to_drop, axis=1, inplace=True)"
   ]
  },
  {
   "cell_type": "code",
   "execution_count": 17,
   "metadata": {},
   "outputs": [
    {
     "data": {
      "text/html": [
       "<div>\n",
       "<style scoped>\n",
       "    .dataframe tbody tr th:only-of-type {\n",
       "        vertical-align: middle;\n",
       "    }\n",
       "\n",
       "    .dataframe tbody tr th {\n",
       "        vertical-align: top;\n",
       "    }\n",
       "\n",
       "    .dataframe thead th {\n",
       "        text-align: right;\n",
       "    }\n",
       "</style>\n",
       "<table border=\"1\" class=\"dataframe\">\n",
       "  <thead>\n",
       "    <tr style=\"text-align: right;\">\n",
       "      <th></th>\n",
       "      <th>radiotap.present.tsft</th>\n",
       "      <th>wlan.fc.ds</th>\n",
       "      <th>Label</th>\n",
       "    </tr>\n",
       "  </thead>\n",
       "  <tbody>\n",
       "    <tr>\n",
       "      <th>count</th>\n",
       "      <td>2440570</td>\n",
       "      <td>2440570</td>\n",
       "      <td>2440570</td>\n",
       "    </tr>\n",
       "    <tr>\n",
       "      <th>unique</th>\n",
       "      <td>2</td>\n",
       "      <td>4</td>\n",
       "      <td>2</td>\n",
       "    </tr>\n",
       "    <tr>\n",
       "      <th>top</th>\n",
       "      <td>1-0-0</td>\n",
       "      <td>0x00000000</td>\n",
       "      <td>Normal</td>\n",
       "    </tr>\n",
       "    <tr>\n",
       "      <th>freq</th>\n",
       "      <td>1537879</td>\n",
       "      <td>1527796</td>\n",
       "      <td>2428688</td>\n",
       "    </tr>\n",
       "  </tbody>\n",
       "</table>\n",
       "</div>"
      ],
      "text/plain": [
       "       radiotap.present.tsft  wlan.fc.ds    Label\n",
       "count                2440570     2440570  2440570\n",
       "unique                     2           4        2\n",
       "top                    1-0-0  0x00000000   Normal\n",
       "freq                 1537879     1527796  2428688"
      ]
     },
     "execution_count": 17,
     "metadata": {},
     "output_type": "execute_result"
    }
   ],
   "source": [
    "dff.describe(include='object')"
   ]
  },
  {
   "cell_type": "code",
   "execution_count": 18,
   "metadata": {},
   "outputs": [
    {
     "name": "stderr",
     "output_type": "stream",
     "text": [
      "/tmp/ipykernel_2016273/1166131774.py:5: SettingWithCopyWarning: \n",
      "A value is trying to be set on a copy of a slice from a DataFrame\n",
      "\n",
      "See the caveats in the documentation: https://pandas.pydata.org/pandas-docs/stable/user_guide/indexing.html#returning-a-view-versus-a-copy\n",
      "  dff.drop(cols, axis=1, inplace=True)\n"
     ]
    }
   ],
   "source": [
    "dummies = []\n",
    "cols = ['radiotap.present.tsft', 'wlan.fc.ds']\n",
    "for col in cols:\n",
    "   dummies.append(pd.get_dummies(df[col]))\n",
    "dff.drop(cols, axis=1, inplace=True)"
   ]
  },
  {
   "cell_type": "code",
   "execution_count": 19,
   "metadata": {},
   "outputs": [],
   "source": [
    "dummies =  pd.concat(dummies, axis=1)\n",
    "dff = pd.concat((dff,dummies), axis=1)"
   ]
  },
  {
   "cell_type": "code",
   "execution_count": 20,
   "metadata": {},
   "outputs": [],
   "source": [
    "dff[\"label\"]=dff['Label'].map(lambda a: 0 if a == 'Normal' else 1)\n",
    "dff.drop(['Label'], axis=1, inplace=True)"
   ]
  },
  {
   "cell_type": "code",
   "execution_count": 21,
   "metadata": {},
   "outputs": [],
   "source": [
    "y = dff.label\n",
    "dff.drop(['label'], inplace=True, axis=1)"
   ]
  },
  {
   "cell_type": "code",
   "execution_count": 22,
   "metadata": {},
   "outputs": [
    {
     "data": {
      "text/plain": [
       "(2440570, 27)"
      ]
     },
     "execution_count": 22,
     "metadata": {},
     "output_type": "execute_result"
    }
   ],
   "source": [
    "# Normaliling the data\n",
    "from sklearn.preprocessing import MinMaxScaler\n",
    "scaler = MinMaxScaler()\n",
    "\n",
    "norm_dff = scaler.fit_transform(dff)\n",
    "norm_dff.shape"
   ]
  },
  {
   "cell_type": "code",
   "execution_count": 23,
   "metadata": {},
   "outputs": [],
   "source": [
    "from sklearn.model_selection import train_test_split\n",
    "\n",
    "X_train, X_test, y_train, y_test = train_test_split(norm_dff, y, test_size=0.3, random_state=42)"
   ]
  },
  {
   "cell_type": "code",
   "execution_count": 24,
   "metadata": {},
   "outputs": [
    {
     "name": "stdout",
     "output_type": "stream",
     "text": [
      "Original dataset shape Counter({0: 1700047, 1: 8352})\n",
      "Original dataset shape Counter({0: 1700047, 1: 1700047})\n"
     ]
    }
   ],
   "source": [
    "# Oversampling the data\n",
    "from collections import Counter\n",
    "from imblearn.over_sampling import SMOTE\n",
    "\n",
    "print('Original dataset shape %s' % Counter(y_train))\n",
    "sm = SMOTE(random_state=42)\n",
    "\n",
    "X_train, y_train = sm.fit_resample(X_train, y_train)\n",
    "X_test, y_test = sm.fit_resample(X_test, y_test)\n",
    "\n",
    "print('Original dataset shape %s' % Counter(y_train))"
   ]
  },
  {
   "cell_type": "code",
   "execution_count": 25,
   "metadata": {},
   "outputs": [],
   "source": [
    "# we'll initialize each model and store it by name in a dictionary\n",
    "models = {}\n",
    "\n",
    "# Logistic Regression\n",
    "from sklearn.linear_model import LogisticRegression\n",
    "models['Logistic Regression'] = LogisticRegression()\n",
    "\n",
    "# # Support Vector Machines\n",
    "# from sklearn.svm import LinearSVC, SVC\n",
    "# models['Support Vector Machines linear'] = LinearSVC()\n",
    "# models['Support Vector Machines plonomial'] = SVC(kernel='poly')\n",
    "# models['Support Vector Machines RBf'] =  SVC(C=100.0)\n",
    "\n",
    "# # Decision Trees\n",
    "# from sklearn.tree import DecisionTreeClassifier\n",
    "# models['Decision Trees'] = DecisionTreeClassifier(max_depth=3)\n",
    "\n",
    "# # Random Forest\n",
    "# from sklearn.ensemble import RandomForestClassifier\n",
    "# models['Random Forest'] = RandomForestClassifier()\n",
    "\n",
    "# # Naive Bayes\n",
    "# from sklearn.naive_bayes import GaussianNB\n",
    "# models['Naive Bayes'] = GaussianNB()\n",
    "\n",
    "# # K-Nearest Neighbors\n",
    "# from sklearn.neighbors import KNeighborsClassifier\n",
    "# models['K-Nearest Neighbor'] = KNeighborsClassifier(n_neighbors=20)"
   ]
  },
  {
   "cell_type": "code",
   "execution_count": 26,
   "metadata": {},
   "outputs": [
    {
     "name": "stderr",
     "output_type": "stream",
     "text": [
      "/home/aabovyan/envs/dl/lib/python3.8/site-packages/sklearn/linear_model/_logistic.py:458: ConvergenceWarning: lbfgs failed to converge (status=1):\n",
      "STOP: TOTAL NO. of ITERATIONS REACHED LIMIT.\n",
      "\n",
      "Increase the number of iterations (max_iter) or scale the data as shown in:\n",
      "    https://scikit-learn.org/stable/modules/preprocessing.html\n",
      "Please also refer to the documentation for alternative solver options:\n",
      "    https://scikit-learn.org/stable/modules/linear_model.html#logistic-regression\n",
      "  n_iter_i = _check_optimize_result(\n"
     ]
    }
   ],
   "source": [
    "# we'll loop over each one, train it by calling .fit(), make predictions, calculate metrics, and store each result in a dictionary.\n",
    "\n",
    "from sklearn.metrics import accuracy_score, precision_score, recall_score\n",
    "\n",
    "accuracy, precision, recall = {}, {}, {}\n",
    "\n",
    "for key in models.keys():\n",
    "    \n",
    "    # Fit the classifier\n",
    "    models[key].fit(X_train, y_train)\n",
    "    \n",
    "    # Make predictions\n",
    "    predictions = models[key].predict(X_test)\n",
    "    \n",
    "    # Calculate metrics\n",
    "    accuracy[key] = accuracy_score(predictions, y_test)\n",
    "    precision[key] = precision_score(predictions, y_test)\n",
    "    recall[key] = recall_score(predictions, y_test)"
   ]
  },
  {
   "cell_type": "code",
   "execution_count": 27,
   "metadata": {},
   "outputs": [
    {
     "data": {
      "text/html": [
       "<div>\n",
       "<style scoped>\n",
       "    .dataframe tbody tr th:only-of-type {\n",
       "        vertical-align: middle;\n",
       "    }\n",
       "\n",
       "    .dataframe tbody tr th {\n",
       "        vertical-align: top;\n",
       "    }\n",
       "\n",
       "    .dataframe thead th {\n",
       "        text-align: right;\n",
       "    }\n",
       "</style>\n",
       "<table border=\"1\" class=\"dataframe\">\n",
       "  <thead>\n",
       "    <tr style=\"text-align: right;\">\n",
       "      <th></th>\n",
       "      <th>Accuracy</th>\n",
       "      <th>Precision</th>\n",
       "      <th>Recall</th>\n",
       "    </tr>\n",
       "  </thead>\n",
       "  <tbody>\n",
       "    <tr>\n",
       "      <th>Logistic Regression</th>\n",
       "      <td>0.964168</td>\n",
       "      <td>0.981944</td>\n",
       "      <td>0.948232</td>\n",
       "    </tr>\n",
       "  </tbody>\n",
       "</table>\n",
       "</div>"
      ],
      "text/plain": [
       "                     Accuracy  Precision    Recall\n",
       "Logistic Regression  0.964168   0.981944  0.948232"
      ]
     },
     "execution_count": 27,
     "metadata": {},
     "output_type": "execute_result"
    }
   ],
   "source": [
    "df_model = pd.DataFrame(index=models.keys(), columns=['Accuracy', 'Precision', 'Recall'])\n",
    "df_model['Accuracy'] = accuracy.values()\n",
    "df_model['Precision'] = precision.values()\n",
    "df_model['Recall'] = recall.values()\n",
    "\n",
    "df_model"
   ]
  },
  {
   "cell_type": "code",
   "execution_count": null,
   "metadata": {},
   "outputs": [],
   "source": []
  }
 ],
 "metadata": {
  "kernelspec": {
   "display_name": "dl",
   "language": "python",
   "name": "python3"
  },
  "language_info": {
   "codemirror_mode": {
    "name": "ipython",
    "version": 3
   },
   "file_extension": ".py",
   "mimetype": "text/x-python",
   "name": "python",
   "nbconvert_exporter": "python",
   "pygments_lexer": "ipython3",
   "version": "3.8.10"
  },
  "orig_nbformat": 4
 },
 "nbformat": 4,
 "nbformat_minor": 2
}
